{
 "cells": [
  {
   "cell_type": "markdown",
   "metadata": {},
   "source": [
    "# Heat conduction of Composites\n",
    "\n",
    "The aim of this lab is to investigate the heat conduction of composite materials. We will investigate the relation between effective heat conductivity and phase fraction of a \"made-up\" 2D composite."
   ]
  },
  {
   "cell_type": "markdown",
   "metadata": {},
   "source": [
    "## Computational domain\n",
    "\n",
    "We have provided a set of three black-and-white images that will serve as our composites. These types of images can be obtained from X-Ray tomography data, microscopes (incl. SEM). Usually, they are grayscale and we have simply thresholded them."
   ]
  },
  {
   "cell_type": "code",
   "execution_count": null,
   "metadata": {},
   "outputs": [],
   "source": [
    "import matplotlib.pyplot as plt\n",
    "\n",
    "composite1 = plt.imread('images/composite_1.tif')\n",
    "composite2 = plt.imread('images/composite_2.tif')\n",
    "composite3 = plt.imread('images/composite_3.tif')\n",
    "\n",
    "fig=plt.figure(figsize=(10, 8));\n",
    "fig.add_subplot(1, 3, 1);\n",
    "plt.imshow(composite1);\n",
    "fig.add_subplot(1, 3, 2);\n",
    "plt.imshow(composite2);\n",
    "fig.add_subplot(1, 3, 3);\n",
    "plt.imshow(composite3);"
   ]
  },
  {
   "cell_type": "markdown",
   "metadata": {},
   "source": [
    "These are TIFF images with a dynamic range from 0 to 255. The image size is 230x140. The first composite contains fairly small particles in a random arrangement. The second composite is similar but with much larger roughly spherical particles. The third composite is made of fibres."
   ]
  },
  {
   "cell_type": "markdown",
   "metadata": {},
   "source": [
    "## Phase fractions"
   ]
  },
  {
   "cell_type": "markdown",
   "metadata": {},
   "source": [
    "Lets investigate the phase fractions of all three structures. We will do this by counting the number of white/black pixels relative to the total number of pixels."
   ]
  },
  {
   "cell_type": "code",
   "execution_count": null,
   "metadata": {},
   "outputs": [],
   "source": [
    "import numpy as np;\n",
    "phasefraction_1 = np.sum(composite1 > 120) / composite1.size;\n",
    "phasefraction_2 = np.sum(composite2 > 120) / composite2.size;\n",
    "phasefraction_3 = np.sum(composite3 > 120) / composite3.size;\n",
    "\n",
    "print(\"Phase fraction Composite 1: {:6.3f}\".format(phasefraction_1));\n",
    "print(\"Phase fraction Composite 2: {:6.3f}\".format(phasefraction_2));\n",
    "print(\"Phase fraction Composite 3: {:6.3f}\".format(phasefraction_3));"
   ]
  },
  {
   "cell_type": "code",
   "execution_count": null,
   "metadata": {},
   "outputs": [],
   "source": [
    "# ACTION: Compute phase fractions of \"black\" phases and confirm that they add up to one."
   ]
  },
  {
   "cell_type": "markdown",
   "metadata": {},
   "source": [
    "## Heat conductivity\n",
    "\n",
    "The heat conductivity is taken to be\n",
    "\n",
    "$$\n",
    "\\lambda(x,\\alpha) = 1\\,\\text{for \"white\" phase}\n",
    "$$\n",
    "and\n",
    "\n",
    "$$\n",
    "\\lambda(x,\\alpha) = \\alpha\\,\\text{for \"black\" phase}\n",
    "$$\n",
    "\n",
    "which is a form of relative heat conductivity."
   ]
  },
  {
   "cell_type": "markdown",
   "metadata": {},
   "source": [
    "## Computational Problem\n",
    "\n",
    "We will investigate the stationary temperature distrubution $u(x)$ of a composite materials subjected to a constant temperature at difference across two borders of $\\Delta u = 2$. We will use normalised quantities to not be bothered with units etc. So the temperature change goes from $u=1$ to $u=-1$ on the left/right boundaries. The top/bottom boundaries will be modelled as \"no flux\" boundaries (i.e., homogeneous Neumann BCs) The problem is described by this PDE\n",
    "\n",
    "$$\n",
    "\\nabla (\\lambda(x) \\nabla u) = 0\\\\\n",
    "u = -1\\,\\text{on}\\,\\Gamma_L\\\\\n",
    "u = +1\\,\\text{on}\\,\\Gamma_R\\\\\n",
    "\\nabla u\\cdot{\\bf n} = 0 \\,\\text{on}\\,\\Gamma_T,\\Gamma_B\\\\\n",
    "$$\n",
    "\n",
    "with the inhomogeneous heat conductivity $\\lambda(x)$. We will use a domain decomposition, splitting the system of equations into\n",
    "\n",
    "$$\n",
    "\\nabla^2 u = 0\\quad\\text{on}\\quad\\Omega_1\\\\\n",
    "\\alpha \\nabla^2 u = 0\\quad\\text{on}\\quad\\Omega_2\n",
    "$$"
   ]
  },
  {
   "cell_type": "markdown",
   "metadata": {},
   "source": [
    "# FEM solution"
   ]
  },
  {
   "cell_type": "markdown",
   "metadata": {},
   "source": [
    "## Parameters"
   ]
  },
  {
   "cell_type": "code",
   "execution_count": null,
   "metadata": {},
   "outputs": [],
   "source": [
    "## Define current values <-- CHANGE here to investigate other composites -->\n",
    "\n",
    "## Numerical parameter\n",
    "nx = 50      # Grid-size horizontal\n",
    "ny = 30      # Grid-size vertical\n",
    "\n",
    "## Materials parameter\n",
    "composite = composite2\n",
    "alpha = 0.05"
   ]
  },
  {
   "cell_type": "markdown",
   "metadata": {},
   "source": [
    "## Mesh and Function space\n",
    "\n",
    "We will operate on a triangular mesh with piecewise linear functions"
   ]
  },
  {
   "cell_type": "code",
   "execution_count": null,
   "metadata": {},
   "outputs": [],
   "source": [
    "from dolfin import *;\n",
    "import matplotlib.pyplot as plt;\n",
    "\n",
    "mesh = RectangleMesh(Point(0.0,0.0),Point(229.,139.),nx,ny);\n",
    "V = FunctionSpace(mesh, \"Lagrange\", 1);\n",
    "\n",
    "plt.figure(figsize=(10,6));\n",
    "plot(mesh, title=\"Mesh\");"
   ]
  },
  {
   "cell_type": "markdown",
   "metadata": {},
   "source": [
    "## Subdomains\n",
    "\n",
    "We will use `SubDomains` to define the different parts of the domain. This includes boundaries and the internal phase regions."
   ]
  },
  {
   "cell_type": "code",
   "execution_count": null,
   "metadata": {},
   "outputs": [],
   "source": [
    "# Create classes for defining parts of the boundaries and the interior\n",
    "# of the domain\n",
    "\n",
    "class Left(SubDomain):\n",
    "    def inside(self, x, on_boundary):\n",
    "        return near(x[0], 0.0)\n",
    "\n",
    "class Right(SubDomain):\n",
    "    def inside(self, x, on_boundary):\n",
    "        return near(x[0], 229.0)\n",
    "\n",
    "class Bottom(SubDomain):\n",
    "    def inside(self, x, on_boundary):\n",
    "        return near(x[1], 0.0)\n",
    "\n",
    "class Top(SubDomain):\n",
    "    def inside(self, x, on_boundary):\n",
    "        return near(x[1], 139.0)\n",
    "\n",
    "# The v class manages the internal phases. Instances of this class\n",
    "# are initialised with an image array holding the phase information as \n",
    "# images. We threshold at a mean value of 120 across the Red, Green, and Blue \n",
    "# color values in the TIFF images. TIFF images scale from 0 to 255 for each of\n",
    "# the three primary colors.\n",
    "class WhitePhase(SubDomain):\n",
    "    \n",
    "    c = [];\n",
    "    \n",
    "    def __init__(self,c):\n",
    "        super(WhitePhase, self).__init__()\n",
    "        self.c = c;\n",
    "    \n",
    "    def inside(self, x, on_boundary):\n",
    "        return np.mean(composite[int(np.floor(x[1])),int(np.floor(x[0])),:]) > 120;\n",
    "\n",
    "# Initialize sub-domain instances\n",
    "left = Left()\n",
    "top = Top()\n",
    "right = Right()\n",
    "bottom = Bottom()\n",
    "white = WhitePhase(composite)"
   ]
  },
  {
   "cell_type": "markdown",
   "metadata": {},
   "source": [
    "FEniCS meshes carry an index that allows to define measures for subdomains. We will use this feature to mark the different parts of the computational domain. We define a `MeshFunction` over the mesh cells to indicate which cells that correspond to the different interior subregions $\\Omega_0$ and $\\Omega_1$. Those in the \"white\" phase will be tagged by 1, while the remainder is tagged by 0. We can set all the values of a `MeshFunction` to a given value using the `set_all` method. So, in order to accomplish what we want, we can set all values to 0 first, and then we can use the obstacle instance to mark the cells identified as inside the obstacle region by 1 (thus overwriting the previous value):"
   ]
  },
  {
   "cell_type": "code",
   "execution_count": null,
   "metadata": {},
   "outputs": [],
   "source": [
    "# Initialize mesh function for interior domains\n",
    "domains = MeshFunction(\"size_t\", mesh, mesh.topology().dim())\n",
    "domains.set_all(0)\n",
    "white.mark(domains, 1)\n",
    "\n",
    "# Initialize mesh function for boundary domains\n",
    "boundaries = MeshFunction(\"size_t\", mesh, mesh.topology().dim()-1)\n",
    "boundaries.set_all(0)\n",
    "left.mark(boundaries, 1)\n",
    "top.mark(boundaries, 2)\n",
    "right.mark(boundaries, 3)\n",
    "bottom.mark(boundaries, 4)\n",
    "\n",
    "plt.figure(figsize=(10,6));\n",
    "plot(domains);"
   ]
  },
  {
   "cell_type": "markdown",
   "metadata": {},
   "source": [
    "## Define FEM problem and solve"
   ]
  },
  {
   "cell_type": "code",
   "execution_count": null,
   "metadata": {},
   "outputs": [],
   "source": [
    "# Define heat conductivies for\n",
    "l0 = Constant(alpha)\n",
    "l1 = Constant(1.0)\n",
    "\n",
    "# Fluxes on the top and bottom boundary are set to zero\n",
    "# Note that we still need to define this Neumann boundary\n",
    "# condition even though it evaluates to zero.\n",
    "g_T = Constant(0.0)\n",
    "g_B = Constant(0.0)\n",
    "\n",
    "# Define new measures associated with the interior domains and\n",
    "# exterior boundaries\n",
    "dx = Measure('dx', domain=mesh, subdomain_data=domains)\n",
    "ds = Measure('ds', domain=mesh, subdomain_data=boundaries)\n",
    "\n",
    "# Define trial and test functions over function space\n",
    "u = TrialFunction(V);\n",
    "v = TestFunction(V);\n",
    "\n",
    "# Define bilinear and linear form\n",
    "a0 = inner(l0*grad(u), grad(v))*dx(0);\n",
    "a1 = inner(l1*grad(u), grad(v))*dx(1);\n",
    "a = a0 + a1;\n",
    "L = g_B*v*ds(2) + g_T*v*ds(4);\n",
    "\n",
    "# Define Dirichlet boundary conditions at left and right boundaries\n",
    "bcs = [DirichletBC(V, -1.0, boundaries, 1),\n",
    "       DirichletBC(V,  1.0, boundaries, 3)]\n",
    "\n",
    "# Solve problem\n",
    "u = Function(V)\n",
    "solve(a == L, u, bcs);\n",
    "\n",
    "plt.figure(figsize=(12,10));\n",
    "plot(u);\n",
    "plot(grad(u));"
   ]
  },
  {
   "cell_type": "markdown",
   "metadata": {},
   "source": [
    "# Analysis\n",
    "\n",
    "We are interested in the flux through the left and right boundaries for the temperature difference $\\Delta u = 2$ that we have imposed on the domain. The heat flux is given by\n",
    "\n",
    "$$\n",
    "J=\\int_{\\partial \\Omega} \\lambda(x) (\\nabla u\\cdot {\\bf n})\\,ds\n",
    "$$\n",
    "\n",
    "To evaluate that integral, we need to construct a `Function` of the heat conductivity first on the `FunctionSpace` $V$. This can be done by looking up the coordinates of all degrees of freedom (dof) of $V$ and equate them to the respective pixel in the TIFFs."
   ]
  },
  {
   "cell_type": "code",
   "execution_count": null,
   "metadata": {},
   "outputs": [],
   "source": [
    "def lmbda(x):\n",
    "    return (int(white.inside(x,True)) * 1.0 + int(not white.inside(x,True)) * alpha);\n",
    "\n",
    "l = Function(V);\n",
    "l.vector()[:] = [lmbda(x) for x in V.tabulate_dof_coordinates()]\n",
    "plot(l);"
   ]
  },
  {
   "cell_type": "markdown",
   "metadata": {},
   "source": [
    "Now we can evaluate the fluxes across the boundaries"
   ]
  },
  {
   "cell_type": "code",
   "execution_count": null,
   "metadata": {},
   "outputs": [],
   "source": [
    "# Evaluate integral of normal gradient over top boundary\n",
    "n = FacetNormal(mesh);\n",
    "m_L = l*dot(grad(u), n)*ds(1);\n",
    "v_L = assemble(m_L);\n",
    "m_B = l*dot(grad(u), n)*ds(2);\n",
    "v_B = assemble(m_B);\n",
    "m_R = l*dot(grad(u), n)*ds(3);\n",
    "v_R = assemble(m_R);\n",
    "m_T = l*dot(grad(u), n)*ds(4);\n",
    "v_T = assemble(m_T);\n",
    "\n",
    "print(\"Flux through left boundary = \", v_L);\n",
    "print(\"Flux through right boundary = \", v_R);\n",
    "print(\"Flux through bottom boundary = \", v_B);\n",
    "print(\"Flux through top boundary = \", v_T);"
   ]
  },
  {
   "cell_type": "markdown",
   "metadata": {},
   "source": [
    "**The left and boundary fluxes do not agree!!! Somethingh is wrong.** Conservation of energy should lead to the same flux into the domain from the left and out of the domain at the right.\n",
    "\n",
    "This is a subtle consequence of our choice of discretisation. One consequence of our approach to use domain decomposition should be that flux is conserved across the internal domain boundaries:\n",
    "\n",
    "$$\n",
    "(\\nabla u\\cdot {\\bf n})_1 = \\alpha (\\nabla u \\cdot {\\bf n})_2\\quad\\text{on}\\quad \\partial\\Omega_{1|2}\n",
    "$$\n",
    "\n",
    "This, however, is nowhere enforced. FEniCS simply ensures that the problem is valid for each element and that the temperature field is continuous, but Finite-Elements are not conservative by construction. This highlights one of many subleties that can result from practical choices that can lead to inaccuracy even if everything is done \"correctly\".\n",
    "\n",
    "For now, we will accept this as an inherent problem. You can take the average of both fluxes for further analysis.\n"
   ]
  },
  {
   "cell_type": "markdown",
   "metadata": {},
   "source": [
    "## Relative flux and effective heat conductivity\n",
    "\n",
    "The flux for a domain of the size (230x140) with a homogeneous conductivity of $\\lambda = 1$ is\n",
    "\n",
    "$$\n",
    "J_h =h/w*\\Delta u =  140/230*2 = 1.2173913\n",
    "$$\n",
    "\n",
    "we can, therefore, calculate effective conductivities by taking the ratio of fluxes."
   ]
  },
  {
   "cell_type": "code",
   "execution_count": null,
   "metadata": {},
   "outputs": [],
   "source": [
    "effective_conductivity = (abs(v_L)+abs(v_R))/2. / (140./230.*2.); \n",
    "print(\"Effective relative conductivity: {:6.3f}\".format(effective_conductivity))"
   ]
  }
 ],
 "metadata": {
  "kernelspec": {
   "display_name": "Python 3",
   "language": "python",
   "name": "python3"
  },
  "language_info": {
   "codemirror_mode": {
    "name": "ipython",
    "version": 3
   },
   "file_extension": ".py",
   "mimetype": "text/x-python",
   "name": "python",
   "nbconvert_exporter": "python",
   "pygments_lexer": "ipython3",
   "version": "3.7.3"
  }
 },
 "nbformat": 4,
 "nbformat_minor": 4
}
